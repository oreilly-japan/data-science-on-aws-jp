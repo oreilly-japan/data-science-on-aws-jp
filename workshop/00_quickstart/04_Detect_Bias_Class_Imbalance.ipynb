{
 "cells": [
  {
   "cell_type": "markdown",
   "metadata": {},
   "source": [
    "# Amazon SageMaker Clarifyを用いたデータバイアス検知"
   ]
  },
  {
   "cell_type": "markdown",
   "metadata": {},
   "source": [
    "\n",
    "## Amazon Science: _[How Clarify helps machine learning developers detect unintended bias](https://www.amazon.science/latest-news/how-clarify-helps-machine-learning-developers-detect-unintended-bias)_ \n",
    "\n",
    "[<img src=\"img/amazon_science_clarify.png\"  width=\"100%\" align=\"left\">](https://www.amazon.science/latest-news/how-clarify-helps-machine-learning-developers-detect-unintended-bias)"
   ]
  },
  {
   "cell_type": "markdown",
   "metadata": {},
   "source": [
    "# 用語集\n",
    "https://docs.aws.amazon.com/sagemaker/latest/dg/clarify-detect-data-bias.html\n",
    "\n",
    "* **バイアス**:\n",
    "年齢や収入層などの異なるグループ間で、学習データやモデルの予測動作に生じる不均衡のこと。バイアスは、モデルの学習に使用したデータやアルゴリズムから生じることがあります。例えば、MLモデルが主に中高年のデータで学習された場合、若年層や高齢者に対する予測を行う際に精度が低くなる可能性があります。\n",
    "\n",
    "* **バイアスメトリクス**: \n",
    "潜在的なバイアスの度合いを示す数値を返す関数。\n",
    "\n",
    "* **バイアスレポート**:\n",
    "分析対象のデータセット、またはデータセットとモデルの組み合わせに対するバイアスメトリクスのコレクション。\n",
    "\n",
    "* **ラベル**:\n",
    "機械学習モデルのトレーニングのターゲットとなる特徴量。\n",
    "\n",
    "* **ポジティブラベル値**:\n",
    "サンプル内の特定の人口集団（年代、性別など）でよく観測されるラベル値。言い換えれば、サンプルがポジティブな結果を持つことを示しています。\n",
    "\n",
    "* **ネガティブラベル値**:\n",
    "サンプル内の特定の人口集団（年代、性別など）であまり観測されないラベル値。言い換えれば、サンプルがネガティブな結果を持つことを示しています。\n",
    "\n",
    "* **ファセット**:\n",
    "バイアスの分析対象となる属性を含むカラムまたは特徴量のこと。（訳注: 例えばデータセットに男女間の差異がないかを分析したい場合は、「性別」のカラムがファセット（側面）となります。）\n",
    "\n",
    "* **ファセット値**:\n",
    "バイアスが含まれ得る属性の特徴値。"
   ]
  },
  {
   "cell_type": "markdown",
   "metadata": {},
   "source": [
    "# トレーニング前バイアスメトリクス\n",
    "https://docs.aws.amazon.com/sagemaker/latest/dg/clarify-measure-data-bias.html\n",
    "\n",
    "* **クラス不均衡、Class Imbalance (CI)**:\n",
    "異なるファセット値間のサンプル数の不均衡を測定。（訳注: 男女のサンプル数に不均衡がないか、など）\n",
    "\n",
    "* **正例ラベル比率の差、Difference in Proportions of Labels (DPL)**:\n",
    "異なるファセット値間でポジティブなラベル比率の不均衡を測定。（訳注: 国籍によってローンの審査の通過率に不均衡がないか、など）\n",
    "\n",
    "* **カルバック・ライブラー・ダイバージェンス、Kullback-Leibler Divergence (KL)**:\n",
    "異なるファセットのラベル分布がエントロピー的にどの程度乖離しているかを測定。\n",
    "\n",
    "* **イェンセン・シャノン・ダイバージェンス、Jensen-Shannon Divergence (JS)**:\n",
    "異なるファセットのラベル分布がエントロピー的にどの程度乖離しているかを測定。\n",
    "\n",
    "* **Lpノルム、Lp-norm (LP)**:\n",
    "データセット内の異なるファセットのラベル分布同士のpノルム差を測定。\n",
    "\n",
    "* **全変動距離、Total Variation Distance (TVD)**:\n",
    "データセット内の異なるファセットのラベル分布同士のL1ノルムの半分を測定。\n",
    "\n",
    "* **コルモゴロフ・スミルノフ、Kolmogorov-Smirnov (KS)**:\n",
    "データセット内の異なるファセットのラベル分布同士の最大ダイバージェンスを測定。\n",
    "\n",
    "* **条件付き人口統計差異、Conditional Demographic Disparity (CDD)**:\n",
    "あるファセットのポジティブとネガティブのラベル比率の差異をサブグループごとに測定。"
   ]
  },
  {
   "cell_type": "code",
   "execution_count": null,
   "metadata": {},
   "outputs": [],
   "source": [
    "import boto3\n",
    "import sagemaker\n",
    "import pandas as pd\n",
    "import numpy as np\n",
    "\n",
    "sess = sagemaker.Session()\n",
    "bucket = sess.default_bucket()\n",
    "role = sagemaker.get_execution_role()\n",
    "region = boto3.Session().region_name\n",
    "\n",
    "import botocore.config\n",
    "\n",
    "config = botocore.config.Config(\n",
    "    user_agent_extra='dsoaws/1.0'\n",
    ")\n",
    "\n",
    "sm = boto3.Session().client(service_name=\"sagemaker\", \n",
    "                            region_name=region,\n",
    "                            config=config)"
   ]
  },
  {
   "cell_type": "code",
   "execution_count": null,
   "metadata": {},
   "outputs": [],
   "source": [
    "import matplotlib.pyplot as plt\n",
    "\n",
    "%matplotlib inline\n",
    "%config InlineBackend.figure_format='retina'"
   ]
  },
  {
   "cell_type": "markdown",
   "metadata": {},
   "source": [
    "# データセットの分析\n",
    "\n",
    "各商品カテゴリーのPandas DataFrameを作成します。\n",
    "\n",
    "## データセットカラムの説明\n",
    "- `marketplace`: 二文字の国コード（今回はすべて「US」）。\n",
    "- `customer_id`: それぞれの書き手のレビュー集約に使われるランダムID。\n",
    "- `review_id`: レビューのユニークID。\n",
    "- `product_id`: Amazon標準識別番号（ASIN）。`http://www.amazon.com/dp/<ASIN>` が商品の詳細ページへのリンクとなる。\n",
    "- `product_parent`: ASINの親。ひとつの親に対して複数のASINが存在しうる（同じ商品の色違いやフォーマット違いなど）。\n",
    "- `product_title`: 商品のタイトル表記。\n",
    "- `product_category`: レビューのグループ化に使う大まかな商品カテゴリー（このケースでは「デジタルビデオ」など）\n",
    "- `star_rating`: レビューの星評価（1〜5）。\n",
    "- `helpful_votes`: レビューへの「役に立った」投票の個数。\n",
    "- `total_votes`: レビューへの全投票数。\n",
    "- `vine`: レビューが[Vine](https://www.amazon.com/gp/vine/help)先取りプログラムの一環で書かれたか否か。\n",
    "- `verified_purchase`: レビューが検証済みの購入に対するものか否か。\n",
    "- `review_headline`: レビューそのもののタイトル。\n",
    "- `review_body`: レビュー本体のテキスト。\n",
    "- `review_date`: レビューが投稿された日付。\n",
    "- `year`: レビュー投稿日付から取得した年情報。"
   ]
  },
  {
   "cell_type": "markdown",
   "metadata": {},
   "source": [
    "時間短縮のため、データセット全体ではなく「ギフトカード」、「デジタルソフトウェア」、「デジタルビデオゲーム」カテゴリーの一部のデータに対して分析を行います。"
   ]
  },
  {
   "cell_type": "code",
   "execution_count": null,
   "metadata": {},
   "outputs": [],
   "source": [
    "import csv\n",
    "\n",
    "df_giftcards = pd.read_csv(\n",
    "    \"./data-clarify/amazon_reviews_us_Gift_Card_v1_00.tsv.gz\",\n",
    "    delimiter=\"\\t\",\n",
    "    quoting=csv.QUOTE_NONE,\n",
    "    compression=\"gzip\",\n",
    ")\n",
    "\n",
    "df_software = pd.read_csv(\n",
    "    \"./data-clarify/amazon_reviews_us_Digital_Software_v1_00.tsv.gz\",\n",
    "    delimiter=\"\\t\",\n",
    "    quoting=csv.QUOTE_NONE,\n",
    "    compression=\"gzip\",\n",
    ")\n",
    "\n",
    "df_videogames = pd.read_csv(\n",
    "    \"./data-clarify/amazon_reviews_us_Digital_Video_Games_v1_00.tsv.gz\",\n",
    "    delimiter=\"\\t\",\n",
    "    quoting=csv.QUOTE_NONE,\n",
    "    compression=\"gzip\",\n",
    ")\n",
    "\n",
    "df = pd.concat([df_giftcards, df_software, df_videogames], ignore_index=True, sort=False)\n",
    "df.head()"
   ]
  },
  {
   "cell_type": "markdown",
   "metadata": {},
   "source": [
    "データセットにある偏り（バイアス）を確認してみましょう。"
   ]
  },
  {
   "cell_type": "code",
   "execution_count": null,
   "metadata": {},
   "outputs": [],
   "source": [
    "import seaborn as sns\n",
    "\n",
    "sns.countplot(data=df, x=\"star_rating\", hue=\"product_category\")"
   ]
  },
  {
   "cell_type": "markdown",
   "metadata": {},
   "source": [
    "### データのアップロード\n",
    "\n",
    "一般に、SageMaker のジョブの入力となるデータは Amaozn S3 に配置します。S3に置いたデータに対して、後ほどSageMaker Clarifyの処理ジョブを実行します。"
   ]
  },
  {
   "cell_type": "code",
   "execution_count": null,
   "metadata": {},
   "outputs": [],
   "source": [
    "!mkdir -p ./transformed/\n",
    "\n",
    "path = \"./amazon_reviews_us_giftcards_software_videogames.csv\"\n",
    "df.to_csv(path, index=False, header=True)\n",
    "\n",
    "data_s3_uri = sess.upload_data(bucket=bucket, key_prefix=\"bias/transformed\", path=path)\n",
    "data_s3_uri"
   ]
  },
  {
   "cell_type": "markdown",
   "metadata": {},
   "source": [
    "# バイアス分析\n",
    "\n",
    "### `DataConfig` のセットアップ\n",
    "\n",
    "`DataConfig` では分析対象のテーブルデータの情報を教えてあげます。\n",
    "以下のように、Amazon S3上に置いたトレーニングデータのパスや、バイアス分析結果のレポートの保存場所を与えたり、予測対象のラベルはどれで、テーブルデータにはどんなカラムがあるのか、データセットのフォーマットは何なのかということを定義します。"
   ]
  },
  {
   "cell_type": "code",
   "execution_count": null,
   "metadata": {},
   "outputs": [],
   "source": [
    "from sagemaker import clarify\n",
    "\n",
    "bias_s3_prefix = \"bias/generated_bias_report\"\n",
    "bias_report_output_path = \"s3://{}/{}/data\".format(bucket, bias_s3_prefix)\n",
    "\n",
    "data_config = clarify.DataConfig(\n",
    "    s3_data_input_path=data_s3_uri,\n",
    "    s3_output_path=bias_report_output_path,\n",
    "    label=\"star_rating\",\n",
    "    headers=df.columns.to_list(),\n",
    "    dataset_type=\"text/csv\",\n",
    ")"
   ]
  },
  {
   "cell_type": "markdown",
   "metadata": {},
   "source": [
    "### `BiasConfig` のセットアップ\n",
    "\n",
    "SageMaker Clarifyでは、分析対象のカラム（`facets`）と何が望ましい結果なのか（`label_values_or_threshold`）を教えてあげる必要があります。\n",
    "\n",
    "これらの情報は `BiasConfig` API で指定します。ここでは `star_rating==5` と `star_rating==4` が望ましい結果となります。`product_category` が今回分析するファセットです。"
   ]
  },
  {
   "cell_type": "code",
   "execution_count": null,
   "metadata": {},
   "outputs": [],
   "source": [
    "bias_config = clarify.BiasConfig(\n",
    "    label_values_or_threshold=[5, 4], \n",
    "    facet_name=\"product_category\"\n",
    ")"
   ]
  },
  {
   "cell_type": "markdown",
   "metadata": {},
   "source": [
    "### SageMaker Clarify Processing Jobのセットアップ"
   ]
  },
  {
   "cell_type": "code",
   "execution_count": null,
   "metadata": {},
   "outputs": [],
   "source": [
    "processor = clarify.SageMakerClarifyProcessor(\n",
    "    role=role, \n",
    "    instance_count=1, \n",
    "    instance_type=\"ml.m5.xlarge\", \n",
    "    sagemaker_session=sess\n",
    ")"
   ]
  },
  {
   "cell_type": "markdown",
   "metadata": {},
   "source": [
    "### Processing Jobを実行\n",
    "\n",
    "トレーニング前バイアスメトリクスを計算するジョブを投げます。"
   ]
  },
  {
   "cell_type": "code",
   "execution_count": null,
   "metadata": {},
   "outputs": [],
   "source": [
    "processor.run_pre_training_bias(\n",
    "    data_config=data_config, \n",
    "    data_bias_config=bias_config, \n",
    "    methods=[\"CI\", \"DPL\", \"KL\", \"JS\", \"LP\", \"TVD\", \"KS\"],\n",
    "    wait=False, \n",
    "    logs=False\n",
    ")"
   ]
  },
  {
   "cell_type": "code",
   "execution_count": null,
   "metadata": {},
   "outputs": [],
   "source": [
    "bias_processing_job_name = processor.latest_job.job_name\n",
    "print(bias_processing_job_name)"
   ]
  },
  {
   "cell_type": "code",
   "execution_count": null,
   "metadata": {},
   "outputs": [],
   "source": [
    "from IPython.core.display import display, HTML\n",
    "\n",
    "display(\n",
    "    HTML(\n",
    "        '<b>Review <a target=\"blank\" href=\"https://console.aws.amazon.com/sagemaker/home?region={}#/processing-jobs/{}\">Processing Job</a></b>'.format(\n",
    "            region, bias_processing_job_name\n",
    "        )\n",
    "    )\n",
    ")"
   ]
  },
  {
   "cell_type": "code",
   "execution_count": null,
   "metadata": {},
   "outputs": [],
   "source": [
    "from IPython.core.display import display, HTML\n",
    "\n",
    "display(\n",
    "    HTML(\n",
    "        '<b>Review <a target=\"blank\" href=\"https://console.aws.amazon.com/cloudwatch/home?region={}#logStream:group=/aws/sagemaker/ProcessingJobs;prefix={};streamFilter=typeLogStreamPrefix\">CloudWatch Logs</a> After About 5 Minutes</b>'.format(\n",
    "            region, bias_processing_job_name\n",
    "        )\n",
    "    )\n",
    ")"
   ]
  },
  {
   "cell_type": "code",
   "execution_count": null,
   "metadata": {},
   "outputs": [],
   "source": [
    "from IPython.core.display import display, HTML\n",
    "\n",
    "display(\n",
    "    HTML(\n",
    "        '<b>Review <a target=\"blank\" href=\"https://s3.console.aws.amazon.com/s3/buckets/{}?region={}&prefix={}/\">S3 Output Data</a> After The Processing Job Has Completed</b>'.format(\n",
    "            bucket, region, bias_s3_prefix\n",
    "        )\n",
    "    )\n",
    ")"
   ]
  },
  {
   "cell_type": "code",
   "execution_count": null,
   "metadata": {},
   "outputs": [],
   "source": [
    "running_processor = sagemaker.processing.ProcessingJob.from_processing_name(\n",
    "    processing_job_name=bias_processing_job_name, sagemaker_session=sess\n",
    ")"
   ]
  },
  {
   "cell_type": "markdown",
   "metadata": {},
   "source": [
    "### _このセルの実行には5〜10分程度かかります。_"
   ]
  },
  {
   "cell_type": "code",
   "execution_count": null,
   "metadata": {},
   "outputs": [],
   "source": [
    "%%time\n",
    "\n",
    "running_processor.wait(logs=False)"
   ]
  },
  {
   "cell_type": "markdown",
   "metadata": {},
   "source": [
    "### バイアスレポートを読む"
   ]
  },
  {
   "cell_type": "code",
   "execution_count": null,
   "metadata": {},
   "outputs": [],
   "source": [
    "!aws s3 ls $bias_report_output_path/"
   ]
  },
  {
   "cell_type": "code",
   "execution_count": null,
   "metadata": {},
   "outputs": [],
   "source": [
    "!aws s3 cp --recursive $bias_report_output_path ./generated_bias_report/data/"
   ]
  },
  {
   "cell_type": "code",
   "execution_count": null,
   "metadata": {},
   "outputs": [],
   "source": [
    "from IPython.core.display import display, HTML\n",
    "\n",
    "display(\n",
    "    HTML('<b>Review <a target=\"blank\" href=\"./generated_bias_report/data/report.html\">Unbalanced Bias Report</a></b>')\n",
    ")"
   ]
  },
  {
   "cell_type": "markdown",
   "metadata": {},
   "source": [
    "# `product_category` と `star_rating` に対してデータセットをバランス化\n",
    "\n",
    "今回はアンダーサンプリング（レビュー数が一番少ない星評価に合わせる）というテクニックを用いてデータセットをバランス化しましょう。"
   ]
  },
  {
   "cell_type": "code",
   "execution_count": null,
   "metadata": {},
   "outputs": [],
   "source": [
    "df_group_by = df.groupby([\"product_category\", \"star_rating\"])\n",
    "df_balanced_data = df_group_by.apply(lambda x: x.sample(df_group_by.size().min()).reset_index(drop=True))"
   ]
  },
  {
   "cell_type": "code",
   "execution_count": null,
   "metadata": {},
   "outputs": [],
   "source": [
    "import seaborn as sns\n",
    "\n",
    "sns.countplot(data=df_balanced_data, x=\"star_rating\", hue=\"product_category\")"
   ]
  },
  {
   "cell_type": "markdown",
   "metadata": {},
   "source": [
    "# SageMaker Clarifyを用いてバランス化したデータセットのバイアスを分析"
   ]
  },
  {
   "cell_type": "code",
   "execution_count": null,
   "metadata": {},
   "outputs": [],
   "source": [
    "path_balanced = \"./amazon_reviews_us_giftcards_software_videogames_balanced.csv\"\n",
    "df_balanced_data.to_csv(path_balanced, index=False, header=True)\n",
    "\n",
    "balanced_data_s3_uri = sess.upload_data(bucket=bucket, key_prefix=\"bias/data_balanced\", path=path_balanced)\n",
    "balanced_data_s3_uri"
   ]
  },
  {
   "cell_type": "markdown",
   "metadata": {},
   "source": [
    "### `DataConfig` のセットアップ"
   ]
  },
  {
   "cell_type": "code",
   "execution_count": null,
   "metadata": {},
   "outputs": [],
   "source": [
    "from sagemaker import clarify\n",
    "\n",
    "bias_s3_prefix = \"bias/generated_bias_report\"\n",
    "bias_report_balanced_output_path = \"s3://{}/{}/data_balanced\".format(bucket, bias_s3_prefix)\n",
    "\n",
    "balanced_data_config = clarify.DataConfig(\n",
    "    s3_data_input_path=balanced_data_s3_uri,\n",
    "    s3_output_path=bias_report_balanced_output_path,\n",
    "    label=\"star_rating\",\n",
    "    headers=df_balanced_data.columns.to_list(),\n",
    "    dataset_type=\"text/csv\",\n",
    ")"
   ]
  },
  {
   "cell_type": "markdown",
   "metadata": {},
   "source": [
    "### `BiasConfig` のセットアップ\n",
    "\n",
    "SageMaker Clarifyでは、分析対象のカラム（`facets`）と何が望ましい結果なのか（`label_values_or_threshold`）を教えてあげる必要があります。\n",
    "\n",
    "これらの情報は `BiasConfig` API で指定します。ここでは `star_rating==5` と `star_rating==4` が望ましい結果となります。`product_category` が今回分析するファセットです。"
   ]
  },
  {
   "cell_type": "code",
   "execution_count": null,
   "metadata": {},
   "outputs": [],
   "source": [
    "bias_config = clarify.BiasConfig(\n",
    "    label_values_or_threshold=[5, 4], \n",
    "    facet_name=\"product_category\" \n",
    ")"
   ]
  },
  {
   "cell_type": "markdown",
   "metadata": {},
   "source": [
    "### SageMaker Clarify Processing Jobのセットアップ"
   ]
  },
  {
   "cell_type": "code",
   "execution_count": null,
   "metadata": {},
   "outputs": [],
   "source": [
    "processor = clarify.SageMakerClarifyProcessor(\n",
    "    role=role, \n",
    "    instance_count=1, \n",
    "    instance_type=\"ml.m5.xlarge\", \n",
    "    sagemaker_session=sess\n",
    ")"
   ]
  },
  {
   "cell_type": "code",
   "execution_count": null,
   "metadata": {},
   "outputs": [],
   "source": [
    "processor.run_pre_training_bias(\n",
    "    data_config=balanced_data_config, \n",
    "    data_bias_config=bias_config, \n",
    "    methods=[\"CI\", \"DPL\", \"KL\", \"JS\", \"LP\", \"TVD\", \"KS\"],\n",
    "    wait=False, \n",
    "    logs=False\n",
    ")"
   ]
  },
  {
   "cell_type": "code",
   "execution_count": null,
   "metadata": {},
   "outputs": [],
   "source": [
    "balanced_bias_processing_job_name = processor.latest_job.job_name\n",
    "print(balanced_bias_processing_job_name)"
   ]
  },
  {
   "cell_type": "code",
   "execution_count": null,
   "metadata": {},
   "outputs": [],
   "source": [
    "from IPython.core.display import display, HTML\n",
    "\n",
    "display(\n",
    "    HTML(\n",
    "        '<b>Review <a target=\"blank\" href=\"https://console.aws.amazon.com/sagemaker/home?region={}#/processing-jobs/{}\">Processing Job</a></b>'.format(\n",
    "            region, balanced_bias_processing_job_name\n",
    "        )\n",
    "    )\n",
    ")"
   ]
  },
  {
   "cell_type": "code",
   "execution_count": null,
   "metadata": {},
   "outputs": [],
   "source": [
    "from IPython.core.display import display, HTML\n",
    "\n",
    "display(\n",
    "    HTML(\n",
    "        '<b>Review <a target=\"blank\" href=\"https://console.aws.amazon.com/cloudwatch/home?region={}#logStream:group=/aws/sagemaker/ProcessingJobs;prefix={};streamFilter=typeLogStreamPrefix\">CloudWatch Logs</a> After About 5 Minutes</b>'.format(\n",
    "            region, balanced_bias_processing_job_name\n",
    "        )\n",
    "    )\n",
    ")"
   ]
  },
  {
   "cell_type": "code",
   "execution_count": null,
   "metadata": {},
   "outputs": [],
   "source": [
    "from IPython.core.display import display, HTML\n",
    "\n",
    "display(\n",
    "    HTML(\n",
    "        '<b>Review <a target=\"blank\" href=\"https://s3.console.aws.amazon.com/s3/buckets/{}?region={}&prefix={}/\">S3 Output Data</a> After The Processing Job Has Completed</b>'.format(\n",
    "            bucket, region, bias_s3_prefix\n",
    "        )\n",
    "    )\n",
    ")"
   ]
  },
  {
   "cell_type": "code",
   "execution_count": null,
   "metadata": {},
   "outputs": [],
   "source": [
    "running_processor = sagemaker.processing.ProcessingJob.from_processing_name(\n",
    "    processing_job_name=balanced_bias_processing_job_name, sagemaker_session=sess\n",
    ")"
   ]
  },
  {
   "cell_type": "markdown",
   "metadata": {},
   "source": [
    "### _このセルの実行には5〜10分程度かかります。_"
   ]
  },
  {
   "cell_type": "code",
   "execution_count": null,
   "metadata": {},
   "outputs": [],
   "source": [
    "%%time\n",
    "\n",
    "running_processor.wait(logs=False)"
   ]
  },
  {
   "cell_type": "markdown",
   "metadata": {},
   "source": [
    "### バランス化したデータセットのバイアスレポートを分析\n",
    "\n",
    "なお、クラス不均衡のメトリクスは、ターゲットラベルに対してすべての商品カテゴリーで同じ値になっています。"
   ]
  },
  {
   "cell_type": "markdown",
   "metadata": {},
   "source": [
    "S3から生成されたバイアスレポートをダウンロード"
   ]
  },
  {
   "cell_type": "code",
   "execution_count": null,
   "metadata": {},
   "outputs": [],
   "source": [
    "!aws s3 ls $bias_report_balanced_output_path/"
   ]
  },
  {
   "cell_type": "code",
   "execution_count": null,
   "metadata": {},
   "outputs": [],
   "source": [
    "!aws s3 cp --recursive $bias_report_balanced_output_path ./generated_bias_report/data_balanced/"
   ]
  },
  {
   "cell_type": "code",
   "execution_count": null,
   "metadata": {},
   "outputs": [],
   "source": [
    "from IPython.core.display import display, HTML\n",
    "\n",
    "display(\n",
    "    HTML(\n",
    "        '<b>Review <a target=\"blank\" href=\"./generated_bias_report/data_balanced/report.html\">Balanced Bias Report</a></b>'\n",
    "    )\n",
    ")"
   ]
  },
  {
   "cell_type": "markdown",
   "metadata": {},
   "source": [
    "# リソースを解放"
   ]
  },
  {
   "cell_type": "code",
   "execution_count": null,
   "metadata": {},
   "outputs": [],
   "source": [
    "%%html\n",
    "\n",
    "<p><b>Shutting down your kernel for this notebook to release resources.</b></p>\n",
    "<button class=\"sm-command-button\" data-commandlinker-command=\"kernelmenu:shutdown\" style=\"display:none;\">Shutdown Kernel</button>\n",
    "        \n",
    "<script>\n",
    "try {\n",
    "    els = document.getElementsByClassName(\"sm-command-button\");\n",
    "    els[0].click();\n",
    "}\n",
    "catch(err) {\n",
    "    // NoOp\n",
    "}    \n",
    "</script>"
   ]
  }
 ],
 "metadata": {
  "kernelspec": {
   "display_name": "Python 3 (Data Science)",
   "language": "python",
   "name": "python3__SAGEMAKER_INTERNAL__arn:aws:sagemaker:us-east-1:081325390199:image/datascience-1.0"
  },
  "language_info": {
   "codemirror_mode": {
    "name": "ipython",
    "version": 3
   },
   "file_extension": ".py",
   "mimetype": "text/x-python",
   "name": "python",
   "nbconvert_exporter": "python",
   "pygments_lexer": "ipython3",
   "version": "3.7.10"
  }
 },
 "nbformat": 4,
 "nbformat_minor": 4
}
